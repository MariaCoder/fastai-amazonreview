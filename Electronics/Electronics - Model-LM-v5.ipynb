{
 "cells": [
  {
   "cell_type": "markdown",
   "metadata": {},
   "source": [
    "## Electronics Product Reviews on Amazon\n",
    "\n",
    "\n",
    "Previously, we trained our classifier on a perfectly balanced set of data. That left us with two drawbacks:\n",
    "1. Smaller amount of data (We had to toss a \"helpful\" reviews in order to maintain that 50-50 balance\n",
    "2. The distribution of the data did not really represent the actual distrubution of the data\n",
    "\n",
    "In this version of experiments, we're going to train the classifier on the unbalanced data. Furthermore, to make things a little easier, we'll be using the \"from_df method for the dataloaders (LM & Classifier) to avoid having to populate folders with individual text files. "
   ]
  },
  {
   "cell_type": "code",
   "execution_count": 1,
   "metadata": {},
   "outputs": [],
   "source": [
    "#hide\n",
    "!pip install -Uqq fastbook\n",
    "import fastbook\n",
    "fastbook.setup_book()"
   ]
  },
  {
   "cell_type": "code",
   "execution_count": 2,
   "metadata": {},
   "outputs": [],
   "source": [
    "#hide\n",
    "from fastbook import *\n",
    "from IPython.display import display,HTML\n",
    "from fastai.text.all import *"
   ]
  },
  {
   "cell_type": "code",
   "execution_count": 3,
   "metadata": {},
   "outputs": [],
   "source": [
    "import pandas as pd\n",
    "import time"
   ]
  },
  {
   "cell_type": "markdown",
   "metadata": {},
   "source": [
    "## Prepping the Data\n",
    "A little bit of prepping was already done in our Electronics_Data_Prep workbook. Let us import the csv file that contains all the data with 50+ helpfulness ratings and no duplicate text in the reviewText column. We will use this data both for training our LM as well as our Classifier. "
   ]
  },
  {
   "cell_type": "code",
   "execution_count": 4,
   "metadata": {},
   "outputs": [],
   "source": [
    "path = Path(\"electronics_all_classifier_data_unbalanced_uniq.csv\")"
   ]
  },
  {
   "cell_type": "code",
   "execution_count": 5,
   "metadata": {},
   "outputs": [],
   "source": [
    "df = pd.read_csv(path)"
   ]
  },
  {
   "cell_type": "code",
   "execution_count": 6,
   "metadata": {},
   "outputs": [
    {
     "data": {
      "text/html": [
       "<div>\n",
       "<style scoped>\n",
       "    .dataframe tbody tr th:only-of-type {\n",
       "        vertical-align: middle;\n",
       "    }\n",
       "\n",
       "    .dataframe tbody tr th {\n",
       "        vertical-align: top;\n",
       "    }\n",
       "\n",
       "    .dataframe thead th {\n",
       "        text-align: right;\n",
       "    }\n",
       "</style>\n",
       "<table border=\"1\" class=\"dataframe\">\n",
       "  <thead>\n",
       "    <tr style=\"text-align: right;\">\n",
       "      <th></th>\n",
       "      <th>helpful</th>\n",
       "      <th>reviewText</th>\n",
       "      <th>overall</th>\n",
       "      <th>summary</th>\n",
       "      <th>num_helpful_votes</th>\n",
       "      <th>num_total_votes</th>\n",
       "      <th>helpful_ratio</th>\n",
       "      <th>is_helpful</th>\n",
       "    </tr>\n",
       "  </thead>\n",
       "  <tbody>\n",
       "    <tr>\n",
       "      <th>0</th>\n",
       "      <td>[70, 92]</td>\n",
       "      <td>I purchased this mount for my 37 inch LCD TV.  Installation was easy...  The trouble I encountered was due to a bad wall stud finder.  Make sure you have one when you install this mount because you need to screw the mount into a wall stud or at least have one screw into a wall stud.The arm of the mount sags after I hooked up my 37in. LCD TV to the mount.  My TV is within the weight limit of this mount (less than 55lbs.) but the arm still sags due to the weight of the TV.  I guess as long as it supports my TV, the sagging shouldn't be an issue.  It just looks funny from the side.  I do retr...</td>\n",
       "      <td>3.0</td>\n",
       "      <td>It Works But Could Be Better</td>\n",
       "      <td>70</td>\n",
       "      <td>92</td>\n",
       "      <td>0.760870</td>\n",
       "      <td>1.0</td>\n",
       "    </tr>\n",
       "    <tr>\n",
       "      <th>1</th>\n",
       "      <td>[52, 57]</td>\n",
       "      <td>Update 2-Sep-13:Put on CM 10.2.2 (Android 4.2.2) last week.  I've got to say, it's nice.  Fonts are small, though one could choose dpi if they had visual issues (google this).  Netflix works, and the UI is really quite nice - pretty much no need for Button Savior, battery life is same as CM7.  In general I like it better than CM7.  My major hardware dislikes are headphone jack requires a little wiggling sometimes, no BT, no GPS.  Seems to charge fine with a normal cable.At this point I lean toward Samsung tablets - I like the IR and the microSD slot.===========================Update Jul 20...</td>\n",
       "      <td>1.0</td>\n",
       "      <td>Very Limited Unless You Modify It</td>\n",
       "      <td>52</td>\n",
       "      <td>57</td>\n",
       "      <td>0.912281</td>\n",
       "      <td>1.0</td>\n",
       "    </tr>\n",
       "    <tr>\n",
       "      <th>2</th>\n",
       "      <td>[69, 72]</td>\n",
       "      <td>I've owned an Ipad 2, an original Kindle Fire, and first generation 3g dual screen Nook. I decided it was time to upgrade my original Nook and went with this tablet. I purchased mine direct from B&amp;N. This is a fantastic ereader with a few tablet functions. I really like the interface on this ereader more so than the Kindle Fire. Don't get me wrong, the Kindle Fire is a very nice device, but I like the personal touch I can give the Nook HD. It's more customizable.I can create my own wallpaper and customize my home screen. The ereader is very light and easy to hold with a contoured, grippy b...</td>\n",
       "      <td>5.0</td>\n",
       "      <td>Great little device!</td>\n",
       "      <td>69</td>\n",
       "      <td>72</td>\n",
       "      <td>0.958333</td>\n",
       "      <td>1.0</td>\n",
       "    </tr>\n",
       "    <tr>\n",
       "      <th>3</th>\n",
       "      <td>[48, 54]</td>\n",
       "      <td>I tried Kindle hd, Samsung tab 2, and Nexus 7. I returned them all since I had high standard for display quality of tablets. I was very disappointed by their color faithfulness and/or resolution.One day I saw a hot discussion online about discounted nook hd from Staples. I rushed to a local store and played nook hd. Its screen immediately attracted me: bright, white, colorful, high resolution. This is what I want!I have being enjoying nook hd ever since. It has THE BEST SCREEN  period!Online community like XDA forum has ways to root nook hd and install Android by yourself. I rooted mine an...</td>\n",
       "      <td>4.0</td>\n",
       "      <td>best screen out of all 7\" tablets</td>\n",
       "      <td>48</td>\n",
       "      <td>54</td>\n",
       "      <td>0.888889</td>\n",
       "      <td>1.0</td>\n",
       "    </tr>\n",
       "    <tr>\n",
       "      <th>4</th>\n",
       "      <td>[226, 231]</td>\n",
       "      <td>The Nook tablet is a great color e-reader with the \"bonus\" of being able to read your email, shop on Amazon.com, surf the web, watch tv shows on Hulu Plus, movies on Netflix, and listen to the world's largest selection of music on Pandora Radio.  I added a 16gb sd card filled with thousands of my favorite songs. But, the Nook is designed to be an ereader...it is not a games tablet, or an IPad.I got my Nook Tablet (8gb version) from Barnes &amp; Noble because of the extra discount I got with my B&amp;N; membership...the price was MUCH less than advertised by most internet venders. I already have a ...</td>\n",
       "      <td>5.0</td>\n",
       "      <td>Great Color E-Reader With Extra Features</td>\n",
       "      <td>226</td>\n",
       "      <td>231</td>\n",
       "      <td>0.978355</td>\n",
       "      <td>1.0</td>\n",
       "    </tr>\n",
       "  </tbody>\n",
       "</table>\n",
       "</div>"
      ],
      "text/plain": [
       "      helpful  \\\n",
       "0    [70, 92]   \n",
       "1    [52, 57]   \n",
       "2    [69, 72]   \n",
       "3    [48, 54]   \n",
       "4  [226, 231]   \n",
       "\n",
       "                                                                                                                                                                                                                                                                                                                                                                                                                                                                                                                                                                                                                reviewText  \\\n",
       "0  I purchased this mount for my 37 inch LCD TV.  Installation was easy...  The trouble I encountered was due to a bad wall stud finder.  Make sure you have one when you install this mount because you need to screw the mount into a wall stud or at least have one screw into a wall stud.The arm of the mount sags after I hooked up my 37in. LCD TV to the mount.  My TV is within the weight limit of this mount (less than 55lbs.) but the arm still sags due to the weight of the TV.  I guess as long as it supports my TV, the sagging shouldn't be an issue.  It just looks funny from the side.  I do retr...   \n",
       "1  Update 2-Sep-13:Put on CM 10.2.2 (Android 4.2.2) last week.  I've got to say, it's nice.  Fonts are small, though one could choose dpi if they had visual issues (google this).  Netflix works, and the UI is really quite nice - pretty much no need for Button Savior, battery life is same as CM7.  In general I like it better than CM7.  My major hardware dislikes are headphone jack requires a little wiggling sometimes, no BT, no GPS.  Seems to charge fine with a normal cable.At this point I lean toward Samsung tablets - I like the IR and the microSD slot.===========================Update Jul 20...   \n",
       "2  I've owned an Ipad 2, an original Kindle Fire, and first generation 3g dual screen Nook. I decided it was time to upgrade my original Nook and went with this tablet. I purchased mine direct from B&N. This is a fantastic ereader with a few tablet functions. I really like the interface on this ereader more so than the Kindle Fire. Don't get me wrong, the Kindle Fire is a very nice device, but I like the personal touch I can give the Nook HD. It's more customizable.I can create my own wallpaper and customize my home screen. The ereader is very light and easy to hold with a contoured, grippy b...   \n",
       "3  I tried Kindle hd, Samsung tab 2, and Nexus 7. I returned them all since I had high standard for display quality of tablets. I was very disappointed by their color faithfulness and/or resolution.One day I saw a hot discussion online about discounted nook hd from Staples. I rushed to a local store and played nook hd. Its screen immediately attracted me: bright, white, colorful, high resolution. This is what I want!I have being enjoying nook hd ever since. It has THE BEST SCREEN  period!Online community like XDA forum has ways to root nook hd and install Android by yourself. I rooted mine an...   \n",
       "4  The Nook tablet is a great color e-reader with the \"bonus\" of being able to read your email, shop on Amazon.com, surf the web, watch tv shows on Hulu Plus, movies on Netflix, and listen to the world's largest selection of music on Pandora Radio.  I added a 16gb sd card filled with thousands of my favorite songs. But, the Nook is designed to be an ereader...it is not a games tablet, or an IPad.I got my Nook Tablet (8gb version) from Barnes & Noble because of the extra discount I got with my B&N; membership...the price was MUCH less than advertised by most internet venders. I already have a ...   \n",
       "\n",
       "   overall                                   summary  num_helpful_votes  \\\n",
       "0      3.0              It Works But Could Be Better                 70   \n",
       "1      1.0         Very Limited Unless You Modify It                 52   \n",
       "2      5.0                      Great little device!                 69   \n",
       "3      4.0         best screen out of all 7\" tablets                 48   \n",
       "4      5.0  Great Color E-Reader With Extra Features                226   \n",
       "\n",
       "   num_total_votes  helpful_ratio  is_helpful  \n",
       "0               92       0.760870         1.0  \n",
       "1               57       0.912281         1.0  \n",
       "2               72       0.958333         1.0  \n",
       "3               54       0.888889         1.0  \n",
       "4              231       0.978355         1.0  "
      ]
     },
     "execution_count": 6,
     "metadata": {},
     "output_type": "execute_result"
    }
   ],
   "source": [
    "df.head()"
   ]
  },
  {
   "cell_type": "markdown",
   "metadata": {},
   "source": [
    "Neither the LM nor the Classifier needs most of these columns. Let us remove them."
   ]
  },
  {
   "cell_type": "code",
   "execution_count": 7,
   "metadata": {},
   "outputs": [],
   "source": [
    "df.drop(columns=[\"helpful\", \"overall\", \"summary\", \"num_helpful_votes\", \"num_total_votes\",\"helpful_ratio\"], inplace=True)"
   ]
  },
  {
   "cell_type": "code",
   "execution_count": 8,
   "metadata": {},
   "outputs": [
    {
     "data": {
      "text/html": [
       "<div>\n",
       "<style scoped>\n",
       "    .dataframe tbody tr th:only-of-type {\n",
       "        vertical-align: middle;\n",
       "    }\n",
       "\n",
       "    .dataframe tbody tr th {\n",
       "        vertical-align: top;\n",
       "    }\n",
       "\n",
       "    .dataframe thead th {\n",
       "        text-align: right;\n",
       "    }\n",
       "</style>\n",
       "<table border=\"1\" class=\"dataframe\">\n",
       "  <thead>\n",
       "    <tr style=\"text-align: right;\">\n",
       "      <th></th>\n",
       "      <th>reviewText</th>\n",
       "      <th>is_helpful</th>\n",
       "    </tr>\n",
       "  </thead>\n",
       "  <tbody>\n",
       "    <tr>\n",
       "      <th>0</th>\n",
       "      <td>I purchased this mount for my 37 inch LCD TV.  Installation was easy...  The trouble I encountered was due to a bad wall stud finder.  Make sure you have one when you install this mount because you need to screw the mount into a wall stud or at least have one screw into a wall stud.The arm of the mount sags after I hooked up my 37in. LCD TV to the mount.  My TV is within the weight limit of this mount (less than 55lbs.) but the arm still sags due to the weight of the TV.  I guess as long as it supports my TV, the sagging shouldn't be an issue.  It just looks funny from the side.  I do retr...</td>\n",
       "      <td>1.0</td>\n",
       "    </tr>\n",
       "    <tr>\n",
       "      <th>1</th>\n",
       "      <td>Update 2-Sep-13:Put on CM 10.2.2 (Android 4.2.2) last week.  I've got to say, it's nice.  Fonts are small, though one could choose dpi if they had visual issues (google this).  Netflix works, and the UI is really quite nice - pretty much no need for Button Savior, battery life is same as CM7.  In general I like it better than CM7.  My major hardware dislikes are headphone jack requires a little wiggling sometimes, no BT, no GPS.  Seems to charge fine with a normal cable.At this point I lean toward Samsung tablets - I like the IR and the microSD slot.===========================Update Jul 20...</td>\n",
       "      <td>1.0</td>\n",
       "    </tr>\n",
       "  </tbody>\n",
       "</table>\n",
       "</div>"
      ],
      "text/plain": [
       "                                                                                                                                                                                                                                                                                                                                                                                                                                                                                                                                                                                                                reviewText  \\\n",
       "0  I purchased this mount for my 37 inch LCD TV.  Installation was easy...  The trouble I encountered was due to a bad wall stud finder.  Make sure you have one when you install this mount because you need to screw the mount into a wall stud or at least have one screw into a wall stud.The arm of the mount sags after I hooked up my 37in. LCD TV to the mount.  My TV is within the weight limit of this mount (less than 55lbs.) but the arm still sags due to the weight of the TV.  I guess as long as it supports my TV, the sagging shouldn't be an issue.  It just looks funny from the side.  I do retr...   \n",
       "1  Update 2-Sep-13:Put on CM 10.2.2 (Android 4.2.2) last week.  I've got to say, it's nice.  Fonts are small, though one could choose dpi if they had visual issues (google this).  Netflix works, and the UI is really quite nice - pretty much no need for Button Savior, battery life is same as CM7.  In general I like it better than CM7.  My major hardware dislikes are headphone jack requires a little wiggling sometimes, no BT, no GPS.  Seems to charge fine with a normal cable.At this point I lean toward Samsung tablets - I like the IR and the microSD slot.===========================Update Jul 20...   \n",
       "\n",
       "   is_helpful  \n",
       "0         1.0  \n",
       "1         1.0  "
      ]
     },
     "execution_count": 8,
     "metadata": {},
     "output_type": "execute_result"
    }
   ],
   "source": [
    "df.head(2)"
   ]
  },
  {
   "cell_type": "code",
   "execution_count": 9,
   "metadata": {},
   "outputs": [
    {
     "data": {
      "text/plain": [
       "1.0    16975\n",
       "0.0     2010\n",
       "Name: is_helpful, dtype: int64"
      ]
     },
     "execution_count": 9,
     "metadata": {},
     "output_type": "execute_result"
    }
   ],
   "source": [
    "df['is_helpful'].value_counts()"
   ]
  },
  {
   "cell_type": "code",
   "execution_count": 10,
   "metadata": {},
   "outputs": [
    {
     "data": {
      "text/plain": [
       "(19009, 2)"
      ]
     },
     "execution_count": 10,
     "metadata": {},
     "output_type": "execute_result"
    }
   ],
   "source": [
    "df.shape"
   ]
  },
  {
   "cell_type": "markdown",
   "metadata": {},
   "source": [
    "Since the shape method showed us that we have 19009 rows, but the above 1.0/0.0 values only add up to 18985, it seems that 24 values are neither 1.0 nor 0.0. Let us check whether they might contain the value NaN."
   ]
  },
  {
   "cell_type": "code",
   "execution_count": 11,
   "metadata": {},
   "outputs": [
    {
     "data": {
      "text/plain": [
       "False    18985\n",
       "True        24\n",
       "Name: is_helpful, dtype: int64"
      ]
     },
     "execution_count": 11,
     "metadata": {},
     "output_type": "execute_result"
    }
   ],
   "source": [
    "df['is_helpful'].isna().value_counts()"
   ]
  },
  {
   "cell_type": "markdown",
   "metadata": {},
   "source": [
    "Turns out these 24 cells contain, indeed, Nans. We're about to use a function rom sklearn that hates Nans, so we must ensure that there are non Nans in the \"is_helpful\" column."
   ]
  },
  {
   "cell_type": "code",
   "execution_count": 12,
   "metadata": {},
   "outputs": [],
   "source": [
    "df = df[df.is_helpful.isna() == False]"
   ]
  },
  {
   "cell_type": "code",
   "execution_count": 13,
   "metadata": {},
   "outputs": [
    {
     "data": {
      "text/plain": [
       "(18985, 2)"
      ]
     },
     "execution_count": 13,
     "metadata": {},
     "output_type": "execute_result"
    }
   ],
   "source": [
    "df.shape"
   ]
  },
  {
   "cell_type": "code",
   "execution_count": 14,
   "metadata": {},
   "outputs": [
    {
     "data": {
      "text/plain": [
       "False    18985\n",
       "Name: is_helpful, dtype: int64"
      ]
     },
     "execution_count": 14,
     "metadata": {},
     "output_type": "execute_result"
    }
   ],
   "source": [
    "df['is_helpful'].isna().value_counts()"
   ]
  },
  {
   "cell_type": "markdown",
   "metadata": {},
   "source": [
    "The new dataframe does not contain Nans in the \"is_helpful\" column anymore. However, the dtype int64 will be too large for our future uses. Let's convert it. "
   ]
  },
  {
   "cell_type": "code",
   "execution_count": 15,
   "metadata": {},
   "outputs": [],
   "source": [
    "df = df.astype({'is_helpful':'float32'})"
   ]
  },
  {
   "cell_type": "code",
   "execution_count": 16,
   "metadata": {},
   "outputs": [
    {
     "data": {
      "text/plain": [
       "dtype('float32')"
      ]
     },
     "execution_count": 16,
     "metadata": {},
     "output_type": "execute_result"
    }
   ],
   "source": [
    "df.is_helpful.dtype"
   ]
  },
  {
   "cell_type": "markdown",
   "metadata": {},
   "source": [
    "Having cleaned up the dataframe, let us know separate out a bit of test data for the end. Since our data is unbalanced this time around, we need to make sure that whatever we separate out is just as unbalanced. We do this using the parameter \"stratify\""
   ]
  },
  {
   "cell_type": "code",
   "execution_count": 17,
   "metadata": {},
   "outputs": [],
   "source": [
    "from sklearn.model_selection import train_test_split\n",
    "\n",
    "# Since the data is unbalanced, stratify the train-test splits on \"is_helpful\"\n",
    "train_unbal_df, test_unbal_df = train_test_split(\n",
    "    df, test_size=0.20, stratify=df[\"is_helpful\"], random_state=42\n",
    ")\n"
   ]
  },
  {
   "cell_type": "code",
   "execution_count": 18,
   "metadata": {},
   "outputs": [
    {
     "data": {
      "text/plain": [
       "((15188, 2), (3797, 2))"
      ]
     },
     "execution_count": 18,
     "metadata": {},
     "output_type": "execute_result"
    }
   ],
   "source": [
    "train_unbal_df.shape, test_unbal_df.shape"
   ]
  },
  {
   "cell_type": "markdown",
   "metadata": {},
   "source": [
    "### Training the LM"
   ]
  },
  {
   "cell_type": "code",
   "execution_count": 19,
   "metadata": {},
   "outputs": [
    {
     "data": {
      "text/html": [],
      "text/plain": [
       "<IPython.core.display.HTML object>"
      ]
     },
     "metadata": {},
     "output_type": "display_data"
    },
    {
     "name": "stderr",
     "output_type": "stream",
     "text": [
      "/opt/conda/envs/fastai/lib/python3.8/site-packages/numpy/core/_asarray.py:83: VisibleDeprecationWarning: Creating an ndarray from ragged nested sequences (which is a list-or-tuple of lists-or-tuples-or ndarrays with different lengths or shapes) is deprecated. If you meant to do this, you must specify 'dtype=object' when creating the ndarray\n",
      "  return array(a, dtype, copy=False, order=order)\n"
     ]
    },
    {
     "name": "stdout",
     "output_type": "stream",
     "text": [
      "TextDataLoader took this long:  39.0287299156189\n"
     ]
    }
   ],
   "source": [
    "start = time.time()\n",
    "\n",
    "dls_lm = TextDataLoaders.from_df(\n",
    "    train_unbal_df, \n",
    "    seed=42, \n",
    "    seq_len=72,\n",
    "    valid_pct = 0.10,\n",
    "    text_col=\"reviewText\", \n",
    "    label_col=\"is_helpful\", \n",
    "    bs = 64, \n",
    "    is_lm = True\n",
    ")\n",
    "\n",
    "end = time.time()\n",
    "elapsed = end - start\n",
    "print(\"TextDataLoader took this long: \", elapsed)"
   ]
  },
  {
   "cell_type": "code",
   "execution_count": 20,
   "metadata": {},
   "outputs": [
    {
     "data": {
      "text/html": [
       "<table border=\"1\" class=\"dataframe\">\n",
       "  <thead>\n",
       "    <tr style=\"text-align: right;\">\n",
       "      <th></th>\n",
       "      <th>text</th>\n",
       "      <th>text_</th>\n",
       "    </tr>\n",
       "  </thead>\n",
       "  <tbody>\n",
       "    <tr>\n",
       "      <th>0</th>\n",
       "      <td>xxbos i purchased this \" bulk packaging \" 32 gb micro xxup xxunk card from xxmaj marketplace seller , komputerbay . i was wary of purchasing this particular product from a marketplace seller because of the rampant availability of fake / counterfeit micro xxup sdhc card being sold on ebay and other sales channels , but since this was being offered via xxmaj amazon fulfillment , i thought it would be a</td>\n",
       "      <td>i purchased this \" bulk packaging \" 32 gb micro xxup xxunk card from xxmaj marketplace seller , komputerbay . i was wary of purchasing this particular product from a marketplace seller because of the rampant availability of fake / counterfeit micro xxup sdhc card being sold on ebay and other sales channels , but since this was being offered via xxmaj amazon fulfillment , i thought it would be a low</td>\n",
       "    </tr>\n",
       "    <tr>\n",
       "      <th>1</th>\n",
       "      <td>xxup not have to use noise reduction post processing for printed images in large xxunk with my last entry i will simply say that i am pleased to have made an investment in the new xxmaj mark xxup iv . xxmaj it surpasses my xxmaj mark xxrep 3 i in a way that will now allow me to press the limits of my ability to capture even more compelling imagery . xxmaj</td>\n",
       "      <td>not have to use noise reduction post processing for printed images in large xxunk with my last entry i will simply say that i am pleased to have made an investment in the new xxmaj mark xxup iv . xxmaj it surpasses my xxmaj mark xxrep 3 i in a way that will now allow me to press the limits of my ability to capture even more compelling imagery . xxmaj and</td>\n",
       "    </tr>\n",
       "  </tbody>\n",
       "</table>"
      ],
      "text/plain": [
       "<IPython.core.display.HTML object>"
      ]
     },
     "metadata": {},
     "output_type": "display_data"
    }
   ],
   "source": [
    "dls_lm.show_batch(max_n=2)"
   ]
  },
  {
   "cell_type": "code",
   "execution_count": 21,
   "metadata": {},
   "outputs": [
    {
     "data": {
      "text/plain": [
       "35224"
      ]
     },
     "execution_count": 21,
     "metadata": {},
     "output_type": "execute_result"
    }
   ],
   "source": [
    "len(dls_lm.vocab)"
   ]
  },
  {
   "cell_type": "code",
   "execution_count": 31,
   "metadata": {},
   "outputs": [],
   "source": [
    "learn = language_model_learner(\n",
    "    dls_lm, AWD_LSTM, drop_mult=0.3, \n",
    "    metrics=[accuracy, Perplexity()]).to_fp16()"
   ]
  },
  {
   "cell_type": "code",
   "execution_count": 32,
   "metadata": {},
   "outputs": [
    {
     "data": {
      "text/html": [
       "<table border=\"1\" class=\"dataframe\">\n",
       "  <thead>\n",
       "    <tr style=\"text-align: left;\">\n",
       "      <th>epoch</th>\n",
       "      <th>train_loss</th>\n",
       "      <th>valid_loss</th>\n",
       "      <th>accuracy</th>\n",
       "      <th>perplexity</th>\n",
       "      <th>time</th>\n",
       "    </tr>\n",
       "  </thead>\n",
       "  <tbody>\n",
       "    <tr>\n",
       "      <td>0</td>\n",
       "      <td>4.077242</td>\n",
       "      <td>3.964806</td>\n",
       "      <td>0.271371</td>\n",
       "      <td>52.710033</td>\n",
       "      <td>10:12</td>\n",
       "    </tr>\n",
       "  </tbody>\n",
       "</table>"
      ],
      "text/plain": [
       "<IPython.core.display.HTML object>"
      ]
     },
     "metadata": {},
     "output_type": "display_data"
    },
    {
     "name": "stdout",
     "output_type": "stream",
     "text": [
      "612.9565975666046\n"
     ]
    }
   ],
   "source": [
    "start = time.time()\n",
    "learn.fit_one_cycle(1, 2e-2)\n",
    "end = time.time()\n",
    "elapsed = end - start\n",
    "print(elapsed)"
   ]
  },
  {
   "cell_type": "code",
   "execution_count": 33,
   "metadata": {},
   "outputs": [
    {
     "data": {
      "text/html": [],
      "text/plain": [
       "<IPython.core.display.HTML object>"
      ]
     },
     "metadata": {},
     "output_type": "display_data"
    },
    {
     "data": {
      "image/png": "[encoded data removed]",
      "text/plain": [
       "<Figure size 432x288 with 1 Axes>"
      ]
     },
     "metadata": {
      "needs_background": "light"
     },
     "output_type": "display_data"
    }
   ],
   "source": [
    "lr_min,lr_steep = learn.lr_find()"
   ]
  },
  {
   "cell_type": "markdown",
   "metadata": {},
   "source": [
    "This Learning Rate versus Loss Curve looks quite similar to what we get for LMs trained on other domains of the project, such as Books. It does not have a nice minimum point, rather a large stretch before Loss rises quickly. "
   ]
  },
  {
   "cell_type": "code",
   "execution_count": 34,
   "metadata": {},
   "outputs": [
    {
     "name": "stdout",
     "output_type": "stream",
     "text": [
      "Minimum/10: 4.37e-04, steepest point: 7.59e-07\n"
     ]
    }
   ],
   "source": [
    "print(f\"Minimum/10: {lr_min:.2e}, steepest point: {lr_steep:.2e}\")"
   ]
  },
  {
   "cell_type": "code",
   "execution_count": 35,
   "metadata": {},
   "outputs": [
    {
     "data": {
      "text/html": [
       "<table border=\"1\" class=\"dataframe\">\n",
       "  <thead>\n",
       "    <tr style=\"text-align: left;\">\n",
       "      <th>epoch</th>\n",
       "      <th>train_loss</th>\n",
       "      <th>valid_loss</th>\n",
       "      <th>accuracy</th>\n",
       "      <th>perplexity</th>\n",
       "      <th>time</th>\n",
       "    </tr>\n",
       "  </thead>\n",
       "  <tbody>\n",
       "    <tr>\n",
       "      <td>0</td>\n",
       "      <td>3.761826</td>\n",
       "      <td>3.796788</td>\n",
       "      <td>0.291498</td>\n",
       "      <td>44.557846</td>\n",
       "      <td>11:20</td>\n",
       "    </tr>\n",
       "  </tbody>\n",
       "</table>"
      ],
      "text/plain": [
       "<IPython.core.display.HTML object>"
      ]
     },
     "metadata": {},
     "output_type": "display_data"
    }
   ],
   "source": [
    "learn.unfreeze()\n",
    "learn.fit_one_cycle(1, 4e-4)"
   ]
  },
  {
   "cell_type": "code",
   "execution_count": 36,
   "metadata": {},
   "outputs": [],
   "source": [
    "learn.save_encoder('finetuned_v5_19K')"
   ]
  },
  {
   "cell_type": "code",
   "execution_count": 37,
   "metadata": {},
   "outputs": [
    {
     "data": {
      "text/html": [],
      "text/plain": [
       "<IPython.core.display.HTML object>"
      ]
     },
     "metadata": {},
     "output_type": "display_data"
    },
    {
     "data": {
      "image/png": "[encoded data removed]",
      "text/plain": [
       "<Figure size 432x288 with 1 Axes>"
      ]
     },
     "metadata": {
      "needs_background": "light"
     },
     "output_type": "display_data"
    }
   ],
   "source": [
    "lr_min,lr_steep = learn.lr_find()"
   ]
  },
  {
   "cell_type": "code",
   "execution_count": 38,
   "metadata": {},
   "outputs": [
    {
     "name": "stdout",
     "output_type": "stream",
     "text": [
      "Minimum/10: 3.31e-07, steepest point: 1.32e-06\n"
     ]
    }
   ],
   "source": [
    "print(f\"Minimum/10: {lr_min:.2e}, steepest point: {lr_steep:.2e}\")"
   ]
  },
  {
   "cell_type": "code",
   "execution_count": 39,
   "metadata": {},
   "outputs": [
    {
     "data": {
      "text/html": [
       "<table border=\"1\" class=\"dataframe\">\n",
       "  <thead>\n",
       "    <tr style=\"text-align: left;\">\n",
       "      <th>epoch</th>\n",
       "      <th>train_loss</th>\n",
       "      <th>valid_loss</th>\n",
       "      <th>accuracy</th>\n",
       "      <th>perplexity</th>\n",
       "      <th>time</th>\n",
       "    </tr>\n",
       "  </thead>\n",
       "  <tbody>\n",
       "    <tr>\n",
       "      <td>0</td>\n",
       "      <td>3.696072</td>\n",
       "      <td>3.797014</td>\n",
       "      <td>0.291490</td>\n",
       "      <td>44.567894</td>\n",
       "      <td>11:19</td>\n",
       "    </tr>\n",
       "  </tbody>\n",
       "</table>"
      ],
      "text/plain": [
       "<IPython.core.display.HTML object>"
      ]
     },
     "metadata": {},
     "output_type": "display_data"
    }
   ],
   "source": [
    "learn.unfreeze()\n",
    "learn.fit_one_cycle(1, 3e-7)"
   ]
  },
  {
   "cell_type": "code",
   "execution_count": 40,
   "metadata": {},
   "outputs": [
    {
     "data": {
      "text/html": [
       "<table border=\"1\" class=\"dataframe\">\n",
       "  <thead>\n",
       "    <tr style=\"text-align: left;\">\n",
       "      <th>epoch</th>\n",
       "      <th>train_loss</th>\n",
       "      <th>valid_loss</th>\n",
       "      <th>accuracy</th>\n",
       "      <th>perplexity</th>\n",
       "      <th>time</th>\n",
       "    </tr>\n",
       "  </thead>\n",
       "  <tbody>\n",
       "    <tr>\n",
       "      <td>0</td>\n",
       "      <td>3.682939</td>\n",
       "      <td>3.755613</td>\n",
       "      <td>0.296705</td>\n",
       "      <td>42.760418</td>\n",
       "      <td>11:36</td>\n",
       "    </tr>\n",
       "  </tbody>\n",
       "</table>"
      ],
      "text/plain": [
       "<IPython.core.display.HTML object>"
      ]
     },
     "metadata": {},
     "output_type": "display_data"
    }
   ],
   "source": [
    "learn.unfreeze()\n",
    "learn.fit_one_cycle(1, 3e-4)"
   ]
  },
  {
   "cell_type": "code",
   "execution_count": 41,
   "metadata": {},
   "outputs": [
    {
     "data": {
      "text/html": [],
      "text/plain": [
       "<IPython.core.display.HTML object>"
      ]
     },
     "metadata": {},
     "output_type": "display_data"
    },
    {
     "data": {
      "image/png": "[encoded data removed]",
      "text/plain": [
       "<Figure size 432x288 with 1 Axes>"
      ]
     },
     "metadata": {
      "needs_background": "light"
     },
     "output_type": "display_data"
    }
   ],
   "source": [
    "lr_min,lr_steep = learn.lr_find()"
   ]
  },
  {
   "cell_type": "code",
   "execution_count": 42,
   "metadata": {},
   "outputs": [
    {
     "data": {
      "text/html": [
       "<table border=\"1\" class=\"dataframe\">\n",
       "  <thead>\n",
       "    <tr style=\"text-align: left;\">\n",
       "      <th>epoch</th>\n",
       "      <th>train_loss</th>\n",
       "      <th>valid_loss</th>\n",
       "      <th>accuracy</th>\n",
       "      <th>perplexity</th>\n",
       "      <th>time</th>\n",
       "    </tr>\n",
       "  </thead>\n",
       "  <tbody>\n",
       "    <tr>\n",
       "      <td>0</td>\n",
       "      <td>3.665859</td>\n",
       "      <td>3.674479</td>\n",
       "      <td>0.305424</td>\n",
       "      <td>39.428120</td>\n",
       "      <td>11:21</td>\n",
       "    </tr>\n",
       "  </tbody>\n",
       "</table>"
      ],
      "text/plain": [
       "<IPython.core.display.HTML object>"
      ]
     },
     "metadata": {},
     "output_type": "display_data"
    }
   ],
   "source": [
    "learn.unfreeze()\n",
    "learn.fit_one_cycle(1, 3e-3)"
   ]
  },
  {
   "cell_type": "code",
   "execution_count": 43,
   "metadata": {},
   "outputs": [],
   "source": [
    "learn.save_encoder('finetuned_v5_19K_B')"
   ]
  },
  {
   "cell_type": "code",
   "execution_count": 44,
   "metadata": {},
   "outputs": [
    {
     "data": {
      "text/html": [],
      "text/plain": [
       "<IPython.core.display.HTML object>"
      ]
     },
     "metadata": {},
     "output_type": "display_data"
    },
    {
     "data": {
      "image/png": "[encoded data removed]",
      "text/plain": [
       "<Figure size 432x288 with 1 Axes>"
      ]
     },
     "metadata": {
      "needs_background": "light"
     },
     "output_type": "display_data"
    }
   ],
   "source": [
    "lr_min,lr_steep = learn.lr_find()"
   ]
  },
  {
   "cell_type": "code",
   "execution_count": null,
   "metadata": {},
   "outputs": [],
   "source": [
    "print(f\"Minimum/10: {lr_min:.2e}, steepest point: {lr_steep:.2e}\")"
   ]
  },
  {
   "cell_type": "code",
   "execution_count": 45,
   "metadata": {},
   "outputs": [
    {
     "data": {
      "text/html": [
       "<table border=\"1\" class=\"dataframe\">\n",
       "  <thead>\n",
       "    <tr style=\"text-align: left;\">\n",
       "      <th>epoch</th>\n",
       "      <th>train_loss</th>\n",
       "      <th>valid_loss</th>\n",
       "      <th>accuracy</th>\n",
       "      <th>perplexity</th>\n",
       "      <th>time</th>\n",
       "    </tr>\n",
       "  </thead>\n",
       "  <tbody>\n",
       "    <tr>\n",
       "      <td>0</td>\n",
       "      <td>3.499403</td>\n",
       "      <td>3.635622</td>\n",
       "      <td>0.310216</td>\n",
       "      <td>37.925426</td>\n",
       "      <td>11:26</td>\n",
       "    </tr>\n",
       "  </tbody>\n",
       "</table>"
      ],
      "text/plain": [
       "<IPython.core.display.HTML object>"
      ]
     },
     "metadata": {},
     "output_type": "display_data"
    }
   ],
   "source": [
    "learn.unfreeze()\n",
    "learn.fit_one_cycle(1, 2e-3)"
   ]
  },
  {
   "cell_type": "code",
   "execution_count": 46,
   "metadata": {},
   "outputs": [],
   "source": [
    "learn.save_encoder('finetuned_v5_19K_C')"
   ]
  },
  {
   "cell_type": "markdown",
   "metadata": {},
   "source": [
    "Let's stick with that LM and save it. "
   ]
  },
  {
   "cell_type": "markdown",
   "metadata": {},
   "source": [
    "### Training the Classifier\n"
   ]
  },
  {
   "cell_type": "code",
   "execution_count": 22,
   "metadata": {},
   "outputs": [
    {
     "data": {
      "text/html": [],
      "text/plain": [
       "<IPython.core.display.HTML object>"
      ]
     },
     "metadata": {},
     "output_type": "display_data"
    },
    {
     "name": "stderr",
     "output_type": "stream",
     "text": [
      "/opt/conda/envs/fastai/lib/python3.8/site-packages/numpy/core/_asarray.py:83: VisibleDeprecationWarning: Creating an ndarray from ragged nested sequences (which is a list-or-tuple of lists-or-tuples-or ndarrays with different lengths or shapes) is deprecated. If you meant to do this, you must specify 'dtype=object' when creating the ndarray\n",
      "  return array(a, dtype, copy=False, order=order)\n"
     ]
    }
   ],
   "source": [
    "dls_cl = TextDataLoaders.from_df(\n",
    "    train_unbal_df, \n",
    "    seed=42, \n",
    "    seq_len=72,\n",
    "    text_col=\"reviewText\", \n",
    "    label_col=\"is_helpful\",\n",
    "    valid_pct = 0.20, \n",
    "    bs = 64, \n",
    "    is_lm = False\n",
    ")\n"
   ]
  },
  {
   "cell_type": "code",
   "execution_count": 55,
   "metadata": {},
   "outputs": [
    {
     "data": {
      "text/plain": [
       "35224"
      ]
     },
     "execution_count": 55,
     "metadata": {},
     "output_type": "execute_result"
    }
   ],
   "source": [
    "len(dls_cl.vocab[0])"
   ]
  },
  {
   "cell_type": "markdown",
   "metadata": {},
   "source": [
    "# Create the pre-trained text classifier\n",
    "classifier = text_classifier_learner(dls_cl, AWD_LSTM, drop_mult=0.5, metrics=accuracy, loss_func=CrossEntropyLossFlat()).to_fp16()\n",
    "\n",
    "# Use the encoder created above from the language model\n",
    "classifier = classifier.load_encoder('2e2_2ep_2e3_2e4_19K')"
   ]
  },
  {
   "cell_type": "code",
   "execution_count": 23,
   "metadata": {},
   "outputs": [],
   "source": [
    "classifier = text_classifier_learner(dls_cl, \n",
    "                                     AWD_LSTM, \n",
    "                                     drop_mult = 0.5, \n",
    "                                     metrics = accuracy).to_fp16()\n"
   ]
  },
  {
   "cell_type": "code",
   "execution_count": 24,
   "metadata": {},
   "outputs": [],
   "source": [
    "classifier = classifier.load_encoder('finetuned_v5_19K_C')"
   ]
  },
  {
   "cell_type": "code",
   "execution_count": 25,
   "metadata": {},
   "outputs": [
    {
     "data": {
      "text/html": [],
      "text/plain": [
       "<IPython.core.display.HTML object>"
      ]
     },
     "metadata": {},
     "output_type": "display_data"
    },
    {
     "data": {
      "image/png": "[encoded data removed]",
      "text/plain": [
       "<Figure size 432x288 with 1 Axes>"
      ]
     },
     "metadata": {
      "needs_background": "light"
     },
     "output_type": "display_data"
    }
   ],
   "source": [
    "lr_min,lr_steep = classifier.lr_find()"
   ]
  },
  {
   "cell_type": "code",
   "execution_count": 26,
   "metadata": {},
   "outputs": [
    {
     "data": {
      "text/html": [
       "<table border=\"1\" class=\"dataframe\">\n",
       "  <thead>\n",
       "    <tr style=\"text-align: left;\">\n",
       "      <th>epoch</th>\n",
       "      <th>train_loss</th>\n",
       "      <th>valid_loss</th>\n",
       "      <th>accuracy</th>\n",
       "      <th>time</th>\n",
       "    </tr>\n",
       "  </thead>\n",
       "  <tbody>\n",
       "    <tr>\n",
       "      <td>0</td>\n",
       "      <td>0.291338</td>\n",
       "      <td>0.254115</td>\n",
       "      <td>0.908462</td>\n",
       "      <td>01:33</td>\n",
       "    </tr>\n",
       "  </tbody>\n",
       "</table>"
      ],
      "text/plain": [
       "<IPython.core.display.HTML object>"
      ]
     },
     "metadata": {},
     "output_type": "display_data"
    }
   ],
   "source": [
    "classifier.fit_one_cycle(1,1e-2)"
   ]
  },
  {
   "cell_type": "code",
   "execution_count": 27,
   "metadata": {},
   "outputs": [
    {
     "data": {
      "text/html": [],
      "text/plain": [
       "<IPython.core.display.HTML object>"
      ]
     },
     "metadata": {},
     "output_type": "display_data"
    },
    {
     "data": {
      "image/png": "[encoded data removed]",
      "text/plain": [
       "<Figure size 432x288 with 1 Axes>"
      ]
     },
     "metadata": {
      "needs_background": "light"
     },
     "output_type": "display_data"
    }
   ],
   "source": [
    "lr_min,lr_steep = classifier.lr_find()"
   ]
  },
  {
   "cell_type": "code",
   "execution_count": 28,
   "metadata": {},
   "outputs": [
    {
     "data": {
      "text/html": [
       "<table border=\"1\" class=\"dataframe\">\n",
       "  <thead>\n",
       "    <tr style=\"text-align: left;\">\n",
       "      <th>epoch</th>\n",
       "      <th>train_loss</th>\n",
       "      <th>valid_loss</th>\n",
       "      <th>accuracy</th>\n",
       "      <th>time</th>\n",
       "    </tr>\n",
       "  </thead>\n",
       "  <tbody>\n",
       "    <tr>\n",
       "      <td>0</td>\n",
       "      <td>0.234548</td>\n",
       "      <td>0.254626</td>\n",
       "      <td>0.907474</td>\n",
       "      <td>01:47</td>\n",
       "    </tr>\n",
       "  </tbody>\n",
       "</table>"
      ],
      "text/plain": [
       "<IPython.core.display.HTML object>"
      ]
     },
     "metadata": {},
     "output_type": "display_data"
    }
   ],
   "source": [
    "classifier.freeze_to(-2)\n",
    "classifier.fit_one_cycle(1, slice(1e-5/(2.6**4),1e-5))"
   ]
  },
  {
   "cell_type": "code",
   "execution_count": 29,
   "metadata": {},
   "outputs": [
    {
     "data": {
      "text/html": [],
      "text/plain": [
       "<IPython.core.display.HTML object>"
      ]
     },
     "metadata": {},
     "output_type": "display_data"
    },
    {
     "data": {
      "image/png": "[encoded data removed]",
      "text/plain": [
       "<Figure size 432x288 with 1 Axes>"
      ]
     },
     "metadata": {
      "needs_background": "light"
     },
     "output_type": "display_data"
    }
   ],
   "source": [
    "lr_min,lr_steep = classifier.lr_find()"
   ]
  },
  {
   "cell_type": "code",
   "execution_count": 30,
   "metadata": {},
   "outputs": [
    {
     "data": {
      "text/html": [
       "<table border=\"1\" class=\"dataframe\">\n",
       "  <thead>\n",
       "    <tr style=\"text-align: left;\">\n",
       "      <th>epoch</th>\n",
       "      <th>train_loss</th>\n",
       "      <th>valid_loss</th>\n",
       "      <th>accuracy</th>\n",
       "      <th>time</th>\n",
       "    </tr>\n",
       "  </thead>\n",
       "  <tbody>\n",
       "    <tr>\n",
       "      <td>0</td>\n",
       "      <td>0.269732</td>\n",
       "      <td>0.245760</td>\n",
       "      <td>0.912743</td>\n",
       "      <td>02:40</td>\n",
       "    </tr>\n",
       "  </tbody>\n",
       "</table>"
      ],
      "text/plain": [
       "<IPython.core.display.HTML object>"
      ]
     },
     "metadata": {},
     "output_type": "display_data"
    }
   ],
   "source": [
    "classifier.freeze_to(-3)\n",
    "classifier.fit_one_cycle(1, slice(5e-3/(2.6**4),5e-3))"
   ]
  },
  {
   "cell_type": "code",
   "execution_count": 31,
   "metadata": {},
   "outputs": [
    {
     "data": {
      "text/html": [],
      "text/plain": [
       "<IPython.core.display.HTML object>"
      ]
     },
     "metadata": {},
     "output_type": "display_data"
    },
    {
     "data": {
      "image/png": "[encoded data removed]",
      "text/plain": [
       "<Figure size 432x288 with 1 Axes>"
      ]
     },
     "metadata": {
      "needs_background": "light"
     },
     "output_type": "display_data"
    }
   ],
   "source": [
    "lr_min,lr_steep = classifier.lr_find()"
   ]
  },
  {
   "cell_type": "code",
   "execution_count": 32,
   "metadata": {},
   "outputs": [
    {
     "data": {
      "text/html": [
       "<table border=\"1\" class=\"dataframe\">\n",
       "  <thead>\n",
       "    <tr style=\"text-align: left;\">\n",
       "      <th>epoch</th>\n",
       "      <th>train_loss</th>\n",
       "      <th>valid_loss</th>\n",
       "      <th>accuracy</th>\n",
       "      <th>time</th>\n",
       "    </tr>\n",
       "  </thead>\n",
       "  <tbody>\n",
       "    <tr>\n",
       "      <td>0</td>\n",
       "      <td>0.201687</td>\n",
       "      <td>0.245491</td>\n",
       "      <td>0.915706</td>\n",
       "      <td>03:24</td>\n",
       "    </tr>\n",
       "  </tbody>\n",
       "</table>"
      ],
      "text/plain": [
       "<IPython.core.display.HTML object>"
      ]
     },
     "metadata": {},
     "output_type": "display_data"
    }
   ],
   "source": [
    "classifier.unfreeze()\n",
    "classifier.fit_one_cycle(1, slice(1e-3/(2.6**4),1e-3))"
   ]
  },
  {
   "cell_type": "code",
   "execution_count": 33,
   "metadata": {},
   "outputs": [
    {
     "data": {
      "text/plain": [
       "Path('models/classifier_15K_forward.pth')"
      ]
     },
     "execution_count": 33,
     "metadata": {},
     "output_type": "execute_result"
    }
   ],
   "source": [
    "classifier.save(\"classifier_15K_forward\")"
   ]
  },
  {
   "cell_type": "markdown",
   "metadata": {},
   "source": [
    "Since around 85% of our training data belong to the category \"helpful\" and only 15% to \"not helpful\", we might have to take our accuracy of 91% with a grain of salt. "
   ]
  },
  {
   "cell_type": "code",
   "execution_count": null,
   "metadata": {},
   "outputs": [],
   "source": []
  }
 ],
 "metadata": {
  "kernelspec": {
   "display_name": "Python 3",
   "language": "python",
   "name": "python3"
  },
  "language_info": {
   "codemirror_mode": {
    "name": "ipython",
    "version": 3
   },
   "file_extension": ".py",
   "mimetype": "text/x-python",
   "name": "python",
   "nbconvert_exporter": "python",
   "pygments_lexer": "ipython3",
   "version": "3.8.6"
  }
 },
 "nbformat": 4,
 "nbformat_minor": 4
}
