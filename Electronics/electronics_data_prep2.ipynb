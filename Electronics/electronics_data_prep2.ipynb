{
 "cells": [
  {
   "cell_type": "code",
   "execution_count": 2,
   "metadata": {},
   "outputs": [],
   "source": [
    "#hide\n",
    "!pip install -Uqq fastbook\n",
    "import fastbook\n",
    "fastbook.setup_book()"
   ]
  },
  {
   "cell_type": "code",
   "execution_count": 3,
   "metadata": {},
   "outputs": [],
   "source": [
    "#hide\n",
    "from fastbook import *\n",
    "from IPython.display import display,HTML"
   ]
  },
  {
   "cell_type": "markdown",
   "metadata": {},
   "source": [
    "### Populate the Data Folders\n",
    "Use the csv files made in our our notebook to create the data folders necessary for training.\n",
    "That \"Data population\" code will be commented out"
   ]
  },
  {
   "cell_type": "code",
   "execution_count": 4,
   "metadata": {},
   "outputs": [],
   "source": [
    "import pandas as pd"
   ]
  },
  {
   "cell_type": "code",
   "execution_count": 5,
   "metadata": {},
   "outputs": [],
   "source": [
    "df_train = pd.read_csv(\"electronics_5_train.csv\")\n",
    "df_test = pd.read_csv(\"electronics_5_test.csv\")"
   ]
  },
  {
   "cell_type": "code",
   "execution_count": 6,
   "metadata": {},
   "outputs": [
    {
     "data": {
      "text/html": [
       "<div>\n",
       "<style scoped>\n",
       "    .dataframe tbody tr th:only-of-type {\n",
       "        vertical-align: middle;\n",
       "    }\n",
       "\n",
       "    .dataframe tbody tr th {\n",
       "        vertical-align: top;\n",
       "    }\n",
       "\n",
       "    .dataframe thead th {\n",
       "        text-align: right;\n",
       "    }\n",
       "</style>\n",
       "<table border=\"1\" class=\"dataframe\">\n",
       "  <thead>\n",
       "    <tr style=\"text-align: right;\">\n",
       "      <th></th>\n",
       "      <th>helpful</th>\n",
       "      <th>reviewText</th>\n",
       "      <th>overall</th>\n",
       "      <th>summary</th>\n",
       "      <th>num_helpful_votes</th>\n",
       "      <th>num_total_votes</th>\n",
       "      <th>helpful_ratio</th>\n",
       "      <th>is_helpful</th>\n",
       "    </tr>\n",
       "  </thead>\n",
       "  <tbody>\n",
       "    <tr>\n",
       "      <th>0</th>\n",
       "      <td>[34, 60]</td>\n",
       "      <td>This is a rolling review which will be updated, expanded and modified as I do more shooting in different situations.........................................Every camera has good points and not-so-good points, and some downright bad points.  The E-M1 is no exception............................................The Good--This camera looks great, feels solid, all dials are smooth, good ergonomics.--Button layout (physical location) is generally convenient and fairly intuitive.--Two dials is nice to have.--The ability to do so much customization is great in theory--once you've set up the buttons...</td>\n",
       "      <td>4.0</td>\n",
       "      <td>A very nice camera that fails to live up to the hype</td>\n",
       "      <td>34</td>\n",
       "      <td>60</td>\n",
       "      <td>0.566667</td>\n",
       "      <td>0</td>\n",
       "    </tr>\n",
       "    <tr>\n",
       "      <th>1</th>\n",
       "      <td>[68, 80]</td>\n",
       "      <td>I got these a couple months ago because I work in a loud part of the building.  The normal foam headphones that came with the portable CD player sounded OK , but I had to turn up the volume so high to mask the noise that I was worried about my hearing.  After trying 3 sets of around-the-ear headphones from various retail stores, and returning them, I got the ATH-M30's.They do a good job at keeping the external noise out, and they really sound good at reasonable (or higher) volumes for most CD's.  Some (mostly older albums) could use a bit more bass, but most have good bass without sounding...</td>\n",
       "      <td>5.0</td>\n",
       "      <td>Comfortable, sound great</td>\n",
       "      <td>68</td>\n",
       "      <td>80</td>\n",
       "      <td>0.850000</td>\n",
       "      <td>1</td>\n",
       "    </tr>\n",
       "    <tr>\n",
       "      <th>2</th>\n",
       "      <td>[84, 85]</td>\n",
       "      <td>I, unlike many other people, did some research about which battery I should buy before I went and and bought it. This is the right battery for the Panasonic Lumix DMC-FH20.With that said, this battery is an authentic Panasonic battery. It is different than the battery the camera came with, as in it lasts longer than the original. If the number on your original battery is (CGA-S/106B), than this is the right battery for your camera. I do not suggest that you buy a 3rd party battery, I know the prices are convincing, but it's not worth it if the battery doesn't work, which is likely to happe...</td>\n",
       "      <td>5.0</td>\n",
       "      <td>Do your research.</td>\n",
       "      <td>84</td>\n",
       "      <td>85</td>\n",
       "      <td>0.988235</td>\n",
       "      <td>1</td>\n",
       "    </tr>\n",
       "    <tr>\n",
       "      <th>3</th>\n",
       "      <td>[49, 50]</td>\n",
       "      <td>Good monitor with a couple of issues. Colors are very bright and graphics are clear and distinct. I was lucky and don't have any dead or stuck pixels. Love the 1920x1200 resolution. I wouldn't go with anything less because then you lose too much screen height in my opinion.The case looks good. I can only see the red in very bright light, it looks black in normal use lighting. The plastic on the back of the case seems to be very thin, and feels kind of cheap. Probably to save on weight, and the monitor is very light for it's size. The stand and front of the case feel strong and sturdy enoug...</td>\n",
       "      <td>4.0</td>\n",
       "      <td>Decent, but not perfect</td>\n",
       "      <td>49</td>\n",
       "      <td>50</td>\n",
       "      <td>0.980000</td>\n",
       "      <td>1</td>\n",
       "    </tr>\n",
       "    <tr>\n",
       "      <th>4</th>\n",
       "      <td>[169, 171]</td>\n",
       "      <td>This inexpensive webcam works with older Macs lacking webcams, without the need to install drivers.  Just plug it in, set your preferences, and you immediately get an image.  The camera lens needs to be focused manually, which is a little tricky but does allow the use of a less wide angle lens.  The quality of the image is ok - not as crisp as that of the built-in powerbook cameras. The color accuracy varied considerably between the two computers I tried with it.  Coupled with iGlasses software, I was able to get a fairly acceptable palate on both machines. The built-in microphone seemed t...</td>\n",
       "      <td>3.0</td>\n",
       "      <td>A pretty good webcam</td>\n",
       "      <td>169</td>\n",
       "      <td>171</td>\n",
       "      <td>0.988304</td>\n",
       "      <td>1</td>\n",
       "    </tr>\n",
       "  </tbody>\n",
       "</table>\n",
       "</div>"
      ],
      "text/plain": [
       "      helpful  \\\n",
       "0    [34, 60]   \n",
       "1    [68, 80]   \n",
       "2    [84, 85]   \n",
       "3    [49, 50]   \n",
       "4  [169, 171]   \n",
       "\n",
       "                                                                                                                                                                                                                                                                                                                                                                                                                                                                                                                                                                                                                reviewText  \\\n",
       "0  This is a rolling review which will be updated, expanded and modified as I do more shooting in different situations.........................................Every camera has good points and not-so-good points, and some downright bad points.  The E-M1 is no exception............................................The Good--This camera looks great, feels solid, all dials are smooth, good ergonomics.--Button layout (physical location) is generally convenient and fairly intuitive.--Two dials is nice to have.--The ability to do so much customization is great in theory--once you've set up the buttons...   \n",
       "1  I got these a couple months ago because I work in a loud part of the building.  The normal foam headphones that came with the portable CD player sounded OK , but I had to turn up the volume so high to mask the noise that I was worried about my hearing.  After trying 3 sets of around-the-ear headphones from various retail stores, and returning them, I got the ATH-M30's.They do a good job at keeping the external noise out, and they really sound good at reasonable (or higher) volumes for most CD's.  Some (mostly older albums) could use a bit more bass, but most have good bass without sounding...   \n",
       "2  I, unlike many other people, did some research about which battery I should buy before I went and and bought it. This is the right battery for the Panasonic Lumix DMC-FH20.With that said, this battery is an authentic Panasonic battery. It is different than the battery the camera came with, as in it lasts longer than the original. If the number on your original battery is (CGA-S/106B), than this is the right battery for your camera. I do not suggest that you buy a 3rd party battery, I know the prices are convincing, but it's not worth it if the battery doesn't work, which is likely to happe...   \n",
       "3  Good monitor with a couple of issues. Colors are very bright and graphics are clear and distinct. I was lucky and don't have any dead or stuck pixels. Love the 1920x1200 resolution. I wouldn't go with anything less because then you lose too much screen height in my opinion.The case looks good. I can only see the red in very bright light, it looks black in normal use lighting. The plastic on the back of the case seems to be very thin, and feels kind of cheap. Probably to save on weight, and the monitor is very light for it's size. The stand and front of the case feel strong and sturdy enoug...   \n",
       "4  This inexpensive webcam works with older Macs lacking webcams, without the need to install drivers.  Just plug it in, set your preferences, and you immediately get an image.  The camera lens needs to be focused manually, which is a little tricky but does allow the use of a less wide angle lens.  The quality of the image is ok - not as crisp as that of the built-in powerbook cameras. The color accuracy varied considerably between the two computers I tried with it.  Coupled with iGlasses software, I was able to get a fairly acceptable palate on both machines. The built-in microphone seemed t...   \n",
       "\n",
       "   overall                                               summary  \\\n",
       "0      4.0  A very nice camera that fails to live up to the hype   \n",
       "1      5.0                              Comfortable, sound great   \n",
       "2      5.0                                     Do your research.   \n",
       "3      4.0                               Decent, but not perfect   \n",
       "4      3.0                                  A pretty good webcam   \n",
       "\n",
       "   num_helpful_votes  num_total_votes  helpful_ratio  is_helpful  \n",
       "0                 34               60       0.566667           0  \n",
       "1                 68               80       0.850000           1  \n",
       "2                 84               85       0.988235           1  \n",
       "3                 49               50       0.980000           1  \n",
       "4                169              171       0.988304           1  "
      ]
     },
     "execution_count": 6,
     "metadata": {},
     "output_type": "execute_result"
    }
   ],
   "source": [
    "df_test.head()"
   ]
  },
  {
   "cell_type": "code",
   "execution_count": 41,
   "metadata": {},
   "outputs": [],
   "source": [
    "df_new = df_test.head()"
   ]
  },
  {
   "cell_type": "code",
   "execution_count": 42,
   "metadata": {},
   "outputs": [
    {
     "data": {
      "text/plain": [
       "(5, 8)"
      ]
     },
     "execution_count": 42,
     "metadata": {},
     "output_type": "execute_result"
    }
   ],
   "source": [
    "df_new.shape"
   ]
  },
  {
   "cell_type": "code",
   "execution_count": 50,
   "metadata": {},
   "outputs": [],
   "source": [
    "def populate_data_folders(row, main_dir, task):\n",
    "    '''apply is faster than iterrows, but we need a function to use it\n",
    "    make sure the folder structure exists ahead of time, use axis = 1 when using df.apply\n",
    "    '''\n",
    "    name = str(row.name) + \".txt\"\n",
    "    if row['is_helpful'] == 1:\n",
    "        file_path = (main_dir/task/\"helpful\"/name)\n",
    "        file_path.write_text(row[\"reviewText\"])\n",
    "    elif row['is_helpful'] == 0:\n",
    "        file_path = (main_dir/task/\"unhelpful\"/name)\n",
    "        file_path.write_text(row['reviewText'])\n",
    "    else:\n",
    "        print(\"Check line {}\".format(row.name))"
   ]
  },
  {
   "cell_type": "code",
   "execution_count": 9,
   "metadata": {},
   "outputs": [],
   "source": [
    "# Setting up Data Directory structure\n",
    "\n",
    "top_dir = Path(\"data\")\n",
    "\n",
    "if not top_dir.exists():\n",
    "    top_dir.mkdir()\n",
    "    for t in [\"test\",\"train\"]:\n",
    "        path_t = top_dir/t\n",
    "        path_t.mkdir()\n",
    "        for l in [\"helpful\", \"unhelpful\"]:\n",
    "            path_l = path_t/l\n",
    "            path_l.mkdir()\n",
    "            \n",
    "else:\n",
    "    print(\"The data directory already exists in some fashion. Delete it to overwrite\")"
   ]
  },
  {
   "cell_type": "code",
   "execution_count": 51,
   "metadata": {},
   "outputs": [
    {
     "data": {
      "text/plain": [
       "0      None\n",
       "1      None\n",
       "2      None\n",
       "3      None\n",
       "4      None\n",
       "       ... \n",
       "799    None\n",
       "800    None\n",
       "801    None\n",
       "802    None\n",
       "803    None\n",
       "Length: 804, dtype: object"
      ]
     },
     "execution_count": 51,
     "metadata": {},
     "output_type": "execute_result"
    }
   ],
   "source": [
    "df_test.apply(populate_data_folders, main_dir = top_dir, task = \"test\", axis=1)"
   ]
  },
  {
   "cell_type": "code",
   "execution_count": 52,
   "metadata": {},
   "outputs": [
    {
     "data": {
      "text/plain": [
       "0       None\n",
       "1       None\n",
       "2       None\n",
       "3       None\n",
       "4       None\n",
       "        ... \n",
       "3211    None\n",
       "3212    None\n",
       "3213    None\n",
       "3214    None\n",
       "3215    None\n",
       "Length: 3216, dtype: object"
      ]
     },
     "execution_count": 52,
     "metadata": {},
     "output_type": "execute_result"
    }
   ],
   "source": [
    "df_train.apply(populate_data_folders, main_dir = top_dir, task = \"train\", axis=1)"
   ]
  },
  {
   "cell_type": "code",
   "execution_count": null,
   "metadata": {},
   "outputs": [],
   "source": [
    "'''\n",
    "if not path.exists():\n",
    "    path.mkdir()\n",
    "    for o in bear_types:\n",
    "        dest = (path/o)\n",
    "        dest.mkdir(exist_ok=True)\n",
    "        results = search_images_ddg_corrected(f'{o} bear',150)\n",
    "        download_images(urls=results, dest=dest)\n",
    "else:\n",
    "    print(\"HI That folder already exists - delete it manually if you want to run this and make sure you won't miss it\")\n",
    "'''    "
   ]
  },
  {
   "cell_type": "code",
   "execution_count": null,
   "metadata": {},
   "outputs": [],
   "source": []
  }
 ],
 "metadata": {
  "kernelspec": {
   "display_name": "Python 3",
   "language": "python",
   "name": "python3"
  },
  "language_info": {
   "codemirror_mode": {
    "name": "ipython",
    "version": 3
   },
   "file_extension": ".py",
   "mimetype": "text/x-python",
   "name": "python",
   "nbconvert_exporter": "python",
   "pygments_lexer": "ipython3",
   "version": "3.8.6"
  }
 },
 "nbformat": 4,
 "nbformat_minor": 4
}
